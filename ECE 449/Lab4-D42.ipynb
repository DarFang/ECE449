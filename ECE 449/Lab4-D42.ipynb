{
 "cells": [
  {
   "cell_type": "markdown",
   "metadata": {},
   "source": [
    "<h1><center>ECE 449 - Intelligent Systems Engineering<br><br>\n",
    "Lab 4-D42: Fuzzy Logic Decision System</center></h1>\n",
    "<hr>\n",
    "<b>Lab date:</b> <i>Thursday, November 18, 2021 -- 2:00 - 4:50 PM</i>\n",
    "<br>\n",
    "<b>Room:</b> </i>ETLC E5-013</i>\n",
    "<br>\n",
    "<b>Lab report due:</b> <i>Saturday, November 28, 2021 -- 3:50 PM</i>\n",
    "<hr>\n",
    "\n",
    "<h2>1. Objectives</h2>\n",
    "The objective of this lab is to build a fuzzy controller, based on the concepts developed in the first lab.  This controller will decide what duty cycle should be used, based on the <i>state of charge</i> and <i>future average power</i>.  The concepts involved in building a fuzzy controller include:\n",
    "<ul>\n",
    "    <li>defining membership functions</li>\n",
    "    <li>defining fuzzy rules to build a ruleset</li>\n",
    "    <li>calculating a fuzzy lookup table, based on the ruleset</li>\n",
    "</ul>\n",
    "\n",
    "<h2>2. Expectations</h2>\n",
    "Complete the pre-lab, and hand it in before the lab starts.  A formal lab report is required for this lab, which will be the completed version of this notebook.  There is a marking guide at the end of the lab manual.  If figures are required, label the axes and provide a legend when appropriate.  An abstract, introduction, and conclusion are required as well, for which cells are provided at the end of the notebook.  The abstract should be a brief description of the topic, the introduction a description of the goals of the lab, and the conclusion a summary of what you learned, what you found difficult, and your own ideas and observations.\n",
    "\n",
    "<h2>3. Pre-lab</h2>\n",
    "1. Describe what a fuzzy lookup table is and how you would use it.  Given that you know all of the fuzzy rules and sets, explain how you would calculate an element of a fuzzy lookup table.\n",
    "\n",
    "<h2>4. Introduction</h2>\n",
    "A <i>fuzzy controller</i> takes inputs, processes these inputs according to a programmed ruleset, and outputs the decision as a crisp value.  A fuzzy rule is written in the following form:\n",
    "\n",
    "&emsp;<b>IF</b> <i>U<sub>1</sub></i> <b>IS</b> A<sub>1</sub> <b>AND</b> <i>U<sub>2</sub></i> <b>IS</b> A<sub>2</sub> <b>THEN</b> <i>V</i> <b>IS</b> B<br>\n",
    "&emsp;<i>U<sub>1</sub>, U<sub>2</sub></i> - inputs; linguistic variables with elements x<sub>1</sub>$\\in$ X<sub>1</sub> and x<sub>2</sub> $\\in$ X<sub>2</sub><br>\n",
    "&emsp;<i>V</i> - output; linguistic variable with elements y $\\in$ Y<br>\n",
    "&emsp;A<sub>1</sub>(x<sub>1</sub>), A<sub>2</sub>(x<sub>2</sub>), B(y) - linguistic values represented by fuzzy sets\n",
    "<br><br>\n",
    "Assuming that <i>U<sub>1</sub></i> and <i>U<sub>2</sub></i> are given as crisp inputs, evaluating a fuzzy rule is performed with the following procedure:\n",
    "<ol>\n",
    "    <li>Obtain the memberships of <i>U<sub>1</sub></i> and <i>U<sub>2</sub></i> in sets A<sub>1</sub> and A<sub>2</sub> (fuzzification).  This will result in two numbers, the membership values.</li>\n",
    "    <li>Perform the appropriate operation for the operator that joins the inputs of the rule.  For example, the <b>AND</b> operator could correspond to a minimum function.  This will result in a single number, the minimimum of the two fuzzified inputs.</li>\n",
    "    <li>Perform the implication (<b>IF/THEN</b> operator) between the number obtained from step 2 and the output membership function C.  For example, if Larsen implication were used, C would be multiplied by the scalar value obtained from step 2.  This outputs a membership function of the output variable.</li>\n",
    "    Remember, an implication proposition is a relation which can take different forms depending on the combination of the input fuzzy sets, Larsen is one of those combinations.\n",
    "</ol>\n",
    "\n",
    "There are usually multiple rules that describe a fuzzy controller.  These rules would be in the following form:\n",
    "\n",
    "&emsp;<b>IF</b> case 1 <b>THEN</b> <i>V</i> <b>IS</b> B<sub>1</sub> <b>ELSE</b><br>\n",
    "&emsp;<b>IF</b> case 2 <b>THEN</b> <i>V</i> <b>IS</b> B<sub>2</sub> <b>ELSE</b><br>\n",
    "&emsp;<b>IF</b> case 3 <b>THEN</b> <i>V</i> <b>IS</b> B<sub>3</sub>\n",
    "\n",
    "In order to combine these rules mathematically, each rule would be evaluated separately, following the procedure previously described, to obtain three membership functions defined on the universe set of variable <i>V</i>.  The final result is obtained by combining these membership functions together with the operation described by the <b>ELSE</b> operator.  This could be performed using the maximum operation, yielding a single membership function that can be defuzzified in order to obtain the crisp value or decision.\n",
    "\n",
    "<h2>5. Background</h2>\n",
    "A team of climatologists has noticed that the monitoring station in Resolute, Nunavut is not recording data (duty cycle of 0) for a significant period of time during the winter.  Based on typical meteorological data of Resolute, the team has built a simulation model to calculate the state of charge and future average power.  They determined that the power outages can be attributed to the scarcity of renewable resources during the winter.  Therefore, they are designing a fuzzy controller to manage the station's power consumption.  The fuzzy ruleset that they plan to use is:\n",
    "\n",
    " \\begin{array}{l l }\n",
    "  \\hline\n",
    "  Rule\\ \\# & Rule\\\\\n",
    "  \\hline\n",
    "1 & \\textbf{IF}\\ (\\textit{SOC}\\ \\textbf{IS}\\ LOW\\ \\textbf{AND}\\ \\textit{power}\\ \\textbf{IS}\\ SCARCE)\\ \\textbf{THEN}\\ \\textit{duty cycle}\\ \\textbf{IS}\\ LOW\\ \\textbf{ELSE}\t\\\\\n",
    "2 & \\textbf{IF}\\ (\\textit{SOC}\\ \\textbf{IS}\\ LOW\\ \\textbf{AND}\\ \\textit{power}\\ \\textbf{IS}\\ AVERAGE)\\ \\textbf{THEN}\\ \\textit{duty cycle}\\ \\textbf{IS}\\ MEDIUM\\ \\textbf{ELSE}\t\\\\\n",
    "3 & \\textbf{IF}\\ (\\textit{SOC}\\ \\textbf{IS}\\ LOW\\ \\textbf{AND}\\ \\textit{power}\\ \\textbf{IS}\\ ABUNDANT)\\ \\textbf{THEN}\\ \\textit{duty cycle}\\ \\textbf{IS}\\ MEDIUM\\ \\textbf{ELSE}\t\\\\\n",
    "4 & \\textbf{IF}\\ (\\textit{SOC}\\ \\textbf{IS}\\ MEDIUM\\ \\textbf{AND}\\ \\textit{power}\\ \\textbf{IS}\\ SCARCE)\\ \\textbf{THEN}\\ \\textit{duty cycle}\\ \\textbf{IS}\\ MEDIUM\\ \\textbf{ELSE}\t\\\\\n",
    "5 & \\textbf{IF}\\ (\\textit{SOC}\\ \\textbf{IS}\\ MEDIUM\\ \\textbf{AND}\\ \\textit{power}\\ \\textbf{IS}\\ AVERAGE)\\ \\textbf{THEN}\\ \\textit{duty cycle}\\ \\textbf{IS}\\ MEDIUM\\ \\textbf{ELSE}\t\\\\\n",
    "6 & \\textbf{IF}\\ (\\textit{SOC}\\ \\textbf{IS}\\ MEDIUM\\ \\textbf{AND}\\ \\textit{power}\\ \\textbf{IS}\\ ABUNDANT)\\ \\textbf{THEN}\\ \\textit{duty cycle}\\ \\textbf{IS}\\ HIGH\\ \\textbf{ELSE}\t\\\\\n",
    "7 & \\textbf{IF}\\ (\\textit{SOC}\\ \\textbf{IS}\\ HIGH\\ \\textbf{AND}\\ \\textit{power}\\ \\textbf{IS}\\ SCARCE)\\ \\textbf{THEN}\\ \\textit{duty cycle}\\ \\textbf{IS}\\ HIGH\\ \\textbf{ELSE}\t\\\\\n",
    "8 & \\textbf{IF}\\ (\\textit{SOC}\\ \\textbf{IS}\\ HIGH\\ \\textbf{AND}\\ \\textit{power}\\ \\textbf{IS}\\ AVERAGE)\\ \\textbf{THEN}\\ \\textit{duty cycle}\\ \\textbf{IS}\\ HIGH\\ \\textbf{ELSE}\t\\\\\n",
    "9 & \\textbf{IF}\\ (\\textit{SOC}\\ \\textbf{IS}\\ HIGH\\ \\textbf{AND}\\ \\textit{power}\\ \\textbf{IS}\\ ABUNDANT)\\ \\textbf{THEN}\\ \\textit{duty cycle}\\ \\textbf{IS}\\ HIGH\t\\\\\n",
    "  \\hline\n",
    " \\end{array}"
   ]
  },
  {
   "cell_type": "markdown",
   "metadata": {},
   "source": [
    "<h2>6. Experimental Procedure</h2>\n",
    "Run the cell below to import the libraries and the simulation model required to complete this lab.  Also, ensure that the Resolute dataset is placed in the same directory as this Jupyter notebook."
   ]
  },
  {
   "cell_type": "code",
   "execution_count": 1,
   "metadata": {},
   "outputs": [],
   "source": [
    "%matplotlib inline\n",
    "\n",
    "import numpy as np                          # General math operations\n",
    "import scipy.io as sio                      # Loads .mat variables\n",
    "import matplotlib.pyplot as plt             # Data visualization\n",
    "from mpl_toolkits.mplot3d import Axes3D     # 3D data visualization\n",
    "import skfuzzy as fuzz                      # Fuzzy toolbox\n",
    "\n",
    "# Represents an arctic weather monitoring station\n",
    "class WeatherStation(object):\n",
    "    fuzzyLookupTable = 0\n",
    "\n",
    "    def __init__(self, fileName):\n",
    "        # Load dataset of the weather for typical meteorological months into a dictionary\n",
    "        dataset = sio.loadmat(fileName)\n",
    "        self.latitude = dataset['latitude']                 # Latitude (°N) of the AWS\n",
    "        self.longitude = dataset['longitude']               # Longitude (°E) of the AWS\n",
    "        self.lstMeridian = dataset['lstMeridian']           # Local standard time meridian (°E)\n",
    "        self.albedo = dataset['albedo']                     # Albedo (measure of reflectance) at the AWS\n",
    "        self.modules = dataset['modules']                   # Number of discrete generator modules\n",
    "        self.minSOC = dataset['minSOC']                     # Minimum allowed state of charge (SOC) of the battery\n",
    "        self.bCapacity = dataset['bCapacity']               # Nominal capacity of the battery\n",
    "        self.panelArea = dataset['panelArea']               # Area of the solar panel\n",
    "        self.inclination = dataset['inclination']           # Inclination of the solar panel\n",
    "        self.azimuth = dataset['azimuth']                   # Azimuth of the solar panel\n",
    "\n",
    "        self.time = dataset['time']                         # Hour number\n",
    "        self.normalRadiation = dataset['normalRadiation']   # Direct normal radiation (perpendicular to sunlight rays)\n",
    "        self.diffuseRadiation = dataset['diffuseRadiation'] # Diffuse horizontal radiation (scattered by particles in atmosphere)\n",
    "        self.airTemperature = dataset['airTemperature']     # Air temperature (dry bulb)\n",
    "        self.windSpeed = dataset['windSpeed']               # Wind speed\n",
    "\n",
    "        self.hours = len(self.time)                         # Total number of hours (8760 in a year)\n",
    "\n",
    "    ### Calculates the energy generated from a flutter generator for a given hour\n",
    "    def flutterGenerator(self, wSpeed):\n",
    "        if (wSpeed >= 2.3):\n",
    "            wEnergy = 25 * wSpeed - 56\n",
    "        else:\n",
    "            wEnergy = 0\n",
    "\n",
    "        # Limit wind energy to 319mW\n",
    "        if (wEnergy > 319):\n",
    "            wEnergy = 319\n",
    "\n",
    "        wEnergy = self.modules * wEnergy / 1000\n",
    "\n",
    "        return wEnergy\n",
    "\n",
    "    ### Calculates the energy generated from a solar panel for a given hour\n",
    "    def solarPanel(self, hour, nRadiation, dRadiation, wSpeed, aTemp):\n",
    "        if (dRadiation == 0):\n",
    "            sEnergy = 0\n",
    "        else:\n",
    "            # 1. DIFFUSE RADIATION ON INCLINED SURFACE\n",
    "            day = (np.floor(((hour + 4344) / 24)) % 365) + 1  # Current day of the year (4344 is used to specify the data starts in July)\n",
    "            declination = 23.442 * np.sin(np.deg2rad((360 / 365) * (284 + day)))\n",
    "            B = np.deg2rad((day - 1) * (360 / 365))\n",
    "            eqnOfTime = 229.2 * (0.000075 + (0.001868 * np.cos(B)) - (0.032077 * np.sin(B)) - (0.014615 * np.cos(2 * B)) - (0.04089 * np.sin(2 * B))) / 60\n",
    "            localStandardTime = hour % 24\n",
    "            localSolarTime = localStandardTime + 4 / 60 * (self.longitude - self.lstMeridian) + eqnOfTime\n",
    "            hourAngle = (localSolarTime - 12) * 15\n",
    "            sunriseHourAngle = np.tan(np.deg2rad(self.latitude)) * np.tan(np.deg2rad(declination))\n",
    "\n",
    "            # Midpoint hour at sunrise\n",
    "            if (sunriseHourAngle > hourAngle - 15):\n",
    "                hourAngle = (hourAngle + sunriseHourAngle) / 2\n",
    "            # Midpoint hour at sunset\n",
    "            elif (-sunriseHourAngle < hourAngle):\n",
    "                hourAngle = (hourAngle - 15 - sunriseHourAngle) / 2\n",
    "            # Midpoint hour between sunrise and sunset\n",
    "            else:\n",
    "                hourAngle -= 7.5\n",
    "\n",
    "            solarAltitude = max([0, np.cos(np.deg2rad(self.latitude)) * np.cos(np.deg2rad(declination)) * np.cos(np.deg2rad(hourAngle)) + np.sin(np.deg2rad(self.latitude)) * np.sin(np.deg2rad(declination))])\n",
    "            solarAltitudeAngle = np.rad2deg(np.arcsin(solarAltitude))\n",
    "            incidence = np.cos(np.pi * self.inclination / 180) * solarAltitude + np.sin(np.pi * self.inclination / 180) * (np.cos(np.deg2rad(declination)) * (np.sin(np.deg2rad(self.latitude)) * np.cos(np.deg2rad(self.azimuth)) * np.cos(np.deg2rad(hourAngle)) + np.sin(np.deg2rad(self.azimuth)) * np.sin(np.deg2rad(hourAngle))) - np.sin(np.deg2rad(declination)) * np.cos(np.deg2rad(self.latitude)) * np.cos(np.deg2rad(self.azimuth)))\n",
    "            solarZenithAngle = 90 - solarAltitudeAngle\n",
    "            clearnessRange = np.array([1, 1.065, 1.23, 1.5, 1.95, 2.8, 4.5, 6.2])\n",
    "            f11 = np.array([-0.008, 0.130, 0.330, 0.568, 0.873, 1.132, 1.060, 0.678])\n",
    "            f12 = np.array([0.588, 0.683, 0.487, 0.187, -0.392, -1.237, -1.6, -0.327])\n",
    "            f13 = np.array([-0.062, -0.151, -0.221, -0.295, -0.362, -0.412, -0.359, 0.25])\n",
    "            f21 = np.array([-0.06, -0.019, 0.055, 0.109, 0.226, 0.288, 0.264, 0.156])\n",
    "            f22 = np.array([0.072, 0.066, -0.064, -0.152, -0.462, -0.823, -1.127, -1.377])\n",
    "            f23 = np.array([-0.022, -0.029, -0.026, 0.014, 0.001, 0.056, 0.131, 0.251])\n",
    "\n",
    "            # Clearness category\n",
    "            clearnessCategory = 7  # Clear sky\n",
    "            if (dRadiation > 0):\n",
    "                clearness = 1 + nRadiation / (dRadiation * (1 + 0.000005535 * solarZenithAngle ** 3))\n",
    "                while (clearnessRange[clearnessCategory] > clearness):\n",
    "                    clearnessCategory -= 1\n",
    "            airMass = 1 / (solarAltitude + 0.5057 * (96.08 - solarZenithAngle) ** (-1.634))\n",
    "            extraterrestrialNormalIncidenceRadiation = 1367 * (1 + 0.033 * np.cos(np.deg2rad(360 * day / 365)))\n",
    "            brightness = airMass * dRadiation / extraterrestrialNormalIncidenceRadiation\n",
    "\n",
    "            # Brightness coefficients\n",
    "            F1 = max([0, (f11[clearnessCategory] + f12[clearnessCategory] * brightness + f13[clearnessCategory] * solarZenithAngle * 0.0175)])\n",
    "            F2 = f21[clearnessCategory] + f22[clearnessCategory] * brightness + f23[clearnessCategory] * solarZenithAngle * 0.0175\n",
    "            aB = max([0, incidence]) / max([0.0872, solarAltitude])\n",
    "            isotropicSkyDiffuseRadiation = max([0, (dRadiation * (1 - F1) * (1 + np.cos(np.deg2rad(self.inclination))) / 2)])\n",
    "            circumsolarDiffuseRadiation = max([0, (dRadiation * F1 * aB)])\n",
    "            horizonDiffuseRadiation = max([0, (dRadiation * F2 * np.sin(np.deg2rad(self.inclination)))])\n",
    "\n",
    "            # 2. GROUND REFLECTED RADIATION AND DIRECT RADIATION ON INCLINED SURFACE\n",
    "            directHorizontalRadiation = nRadiation * solarAltitude\n",
    "            groundReflectedRadiation = self.albedo * (dRadiation + directHorizontalRadiation) * (1 - np.cos(np.deg2rad(self.inclination))) / 2\n",
    "            ratioBeamRadiation = aB\n",
    "            directRadiation = directHorizontalRadiation * ratioBeamRadiation\n",
    "\n",
    "            # 3. TOTAL RADIATION ON INCLINED SURFACE AND SUN ENERGY\n",
    "            totalRadiationTilted = directRadiation + isotropicSkyDiffuseRadiation + circumsolarDiffuseRadiation + horizonDiffuseRadiation + groundReflectedRadiation\n",
    "            cellTemperature = totalRadiationTilted * (np.exp(-3.56 - 0.075 * wSpeed) + 0.003) + aTemp\n",
    "            efficiency = 0.155 - 0.0006 * cellTemperature\n",
    "            efficiency *= np.interp(totalRadiationTilted, [0, 27, 93, 200, 400, 625, 1000, 3000], [0, 0.5, 0.75, 0.89, 0.97, 1, 0.97, 0.97])\n",
    "            sEnergy = totalRadiationTilted * self.panelArea * efficiency\n",
    "        return sEnergy\n",
    "\n",
    "    ### Calculates the net current and energy generated\n",
    "    def energy(self, wEnergy, sEnergy):\n",
    "        # 90% efficiency\n",
    "        netEnergy = (sEnergy + wEnergy) * 0.9\n",
    "\n",
    "        # 12V system\n",
    "        incCurrent = netEnergy / 12\n",
    "\n",
    "        return (incCurrent, netEnergy)\n",
    "\n",
    "    ### Calculates the future energy availability by using a moving average filter\n",
    "    def futureAvailability(self, netEnergy, hourWindow):\n",
    "        initHours = len(netEnergy)\n",
    "        futureEnergyAvg = np.zeros((initHours, 1))\n",
    "        # Augment netEnergy to account for the hour window\n",
    "        np.resize(netEnergy, (initHours + hourWindow, 1))\n",
    "\n",
    "        for hour in range(initHours):\n",
    "            futureEnergyAvg[hour] = np.mean(netEnergy[hour:hour + hourWindow])\n",
    "\n",
    "        # Scale values from 0 to 100\n",
    "        futureEnergyAvg = futureEnergyAvg - np.min(futureEnergyAvg)\n",
    "        futureEnergyAvg = np.round(futureEnergyAvg / np.max(futureEnergyAvg) * 100)\n",
    "\n",
    "        return futureEnergyAvg\n",
    "\n",
    "    ### Calculates the current consumed by the load\n",
    "    def load(self, dutyCycle, satellite, prevDataBuffer):\n",
    "        satellite = min(satellite, prevDataBuffer * 38.55)\n",
    "\n",
    "        # Consumption: 0.039A - data logger; 0.036A - sensors; 0.054A - satellite * (hour data points)\n",
    "        outCurrent = dutyCycle / 100 * (0.039 + 0.036) + satellite * 0.054\n",
    "\n",
    "        # Data buffer capacity is 1MB or 3855 hours of recordings\n",
    "        dBuffer = prevDataBuffer + (1 - satellite) / 38.55\n",
    "        return (outCurrent, dBuffer)\n",
    "\n",
    "    ### Determines the state of the monitoring station based on the state of charge\n",
    "    def powerManagement(self, prevDutyCycle, prevOutCurrent, incCurrent, hour, fuzzy, fuzzyLookupTable, futureEnergyAvg, prevSOC):\n",
    "        # FUZZY ENERGY MANAGEMENT\n",
    "        if (fuzzy == 1):\n",
    "            if (prevSOC >= self.minSOC):\n",
    "                # Update at midnight only to avoid oscillations\n",
    "                if (hour % 24 == 0):\n",
    "                    dutyCycle = fuzzyLookupTable[futureEnergyAvg.astype(int), (np.round((prevSOC - self.minSOC) / (100 - self.minSOC)) * 100).astype(int)]\n",
    "                else:\n",
    "                    dutyCycle = prevDutyCycle\n",
    "                satellite = 1  # Transmit data every hour\n",
    "            else:\n",
    "                dutyCycle = 0\n",
    "                satellite = 0\n",
    "        # SIMPLE ENERGY MANAGEMENT\n",
    "        else:\n",
    "            if (prevSOC >= self.minSOC):\n",
    "                dutyCycle = 100\n",
    "                satellite = 1\n",
    "            else:\n",
    "                dutyCycle = 0\n",
    "                satellite = 0\n",
    "        bCurrent = incCurrent - prevOutCurrent\n",
    "        return (dutyCycle, satellite, bCurrent)\n",
    "\n",
    "    ### Calculates the state of charge of the battery\n",
    "    def battery(self, bCurrent, aTemp, prevExcessEnergyAvg, prevStoredEnergy):\n",
    "        # Hourly self-discharge\n",
    "        storedEnergy = prevStoredEnergy * 0.99997\n",
    "\n",
    "        # Add incoming current\n",
    "        if (bCurrent >= 0):\n",
    "            storedEnergy += bCurrent * 0.9  # Charging efficiency of 90%\n",
    "        else:\n",
    "            storedEnergy += bCurrent / 0.95  # Discharging efficiency of 95%\n",
    "\n",
    "        # Temperature effect\n",
    "        if (aTemp >= 25):\n",
    "            maxCapacity = self.bCapacity\n",
    "        elif (aTemp < 0):\n",
    "            maxCapacity = self.bCapacity * 0.85\n",
    "        else:\n",
    "            maxCapacity = self.bCapacity * (0.6 * aTemp + 85) / 100\n",
    "\n",
    "        if storedEnergy > maxCapacity:\n",
    "            excessEnergyAvg = prevExcessEnergyAvg + storedEnergy - maxCapacity\n",
    "        else:\n",
    "            excessEnergyAvg = prevExcessEnergyAvg\n",
    "\n",
    "        # Stored energy saturation\n",
    "        storedEnergy = max([0, min([maxCapacity, storedEnergy])])\n",
    "        SOC = storedEnergy / self.bCapacity * 100\n",
    "        return (SOC, excessEnergyAvg, storedEnergy)\n",
    "\n",
    "    ### Sets the fuzzy lookup table to be used in the simulation\n",
    "    def setFuzzyLookupTable(self, fuzzyLookupTable):\n",
    "        self.fuzzyLookupTable = fuzzyLookupTable\n",
    "\n",
    "    ### Performs a simulation using the typical meteorological year dataset\n",
    "    def simulate(self, fuzzy):\n",
    "        # Pre-allocate arrays with zeros\n",
    "        windEnergy = np.zeros((self.hours, 1))          # Wind energy\n",
    "        sunEnergy = np.zeros((self.hours, 1))           # Sun energy\n",
    "        incomingCurrent = np.zeros((self.hours, 1))     # Incoming current\n",
    "        netEnergy = np.zeros((self.hours, 1))           # Net energy\n",
    "\n",
    "        # Compute energy obtained from weather conditions\n",
    "        for hour in self.time:\n",
    "            sunEnergy[hour] = self.solarPanel(hour, self.normalRadiation[hour], self.diffuseRadiation[hour], self.windSpeed[hour], self.airTemperature[hour])\n",
    "            windEnergy[hour] = self.flutterGenerator(self.windSpeed[hour])\n",
    "            (incomingCurrent[hour], netEnergy[hour]) = self.energy(windEnergy[hour], sunEnergy[hour])\n",
    "\n",
    "        futureEnergyAvg = self.futureAvailability(netEnergy, 2159)  # 90 day window\n",
    "\n",
    "        # Pre-allocate arrays with zeros\n",
    "        outgoingCurrent = np.zeros((self.hours, 1))\n",
    "        dataBuffer = np.zeros((self.hours, 1))\n",
    "        dutyCycle = np.zeros((self.hours, 1))\n",
    "        satellite = np.zeros((self.hours, 1))\n",
    "        batteryCurrent = np.zeros((self.hours, 1))\n",
    "        SOC = np.zeros((self.hours, 1))\n",
    "        excessEnergyAvg = np.zeros((self.hours, 1))\n",
    "        storedEnergy = np.zeros((self.hours, 1))\n",
    "\n",
    "        # Determine the first element of each array based on the initial conditions\n",
    "        (dutyCycle[0], satellite[0], batteryCurrent[0]) = self.powerManagement(100, 0.129, incomingCurrent[0], 0, 0, self.fuzzyLookupTable, futureEnergyAvg[0], 100)\n",
    "        (SOC[0], excessEnergyAvg[0], storedEnergy[0]) = self.battery(batteryCurrent[0], self.airTemperature[0], 0, self.bCapacity)\n",
    "        (outgoingCurrent[0], dataBuffer[0]) = self.load(100, satellite[0], 0)\n",
    "\n",
    "        # Calculate the rest of the elements in the arrays\n",
    "        for hour in self.time[1:]:\n",
    "            (dutyCycle[hour], satellite[hour], batteryCurrent[hour]) = self.powerManagement(dutyCycle[hour - 1], outgoingCurrent[hour - 1], incomingCurrent[hour - 1], hour, fuzzy, self.fuzzyLookupTable, futureEnergyAvg[hour], SOC[hour - 1])\n",
    "            (SOC[hour], excessEnergyAvg[hour], storedEnergy[hour]) = self.battery(batteryCurrent[hour], self.airTemperature[hour], excessEnergyAvg[hour - 1], storedEnergy[hour - 1])\n",
    "            (outgoingCurrent[hour], dataBuffer[hour]) = self.load(dutyCycle[hour], satellite[hour], dataBuffer[hour - 1])\n",
    "\n",
    "        # Plot the results\n",
    "        f, axarr = plt.subplots(3, sharex = True) \n",
    "        axarr[0].plot(self.time, incomingCurrent)\n",
    "        axarr[0].set_title('Incoming Current [A]')\n",
    "        axarr[1].plot(self.time, SOC)\n",
    "        axarr[1].set_title('State of Charge [%]')\n",
    "        axarr[1].set_ylim([0, 105])\n",
    "        axarr[2].plot(self.time, dutyCycle)\n",
    "        axarr[2].set_title('Duty Cycle [%]')\n",
    "        axarr[2].set_xlim([0, self.hours])\n",
    "        axarr[2].set_ylim([0, 105])\n",
    "        plt.xticks([0, 744, 1488, 2208, 2952, 3696, 4440, 5112, 5856, 6576, 7320, 8040], ('July', 'Aug.', 'Sept.', 'Oct.', 'Nov.', 'Dec.', 'Jan.', 'Feb.', 'Mar.', 'Apr.', 'May', 'June'))\n",
    "        plt.show()"
   ]
  },
  {
   "cell_type": "markdown",
   "metadata": {},
   "source": [
    "Run the cell below to verify that power outages do occur, and that the duty cycle of the station becomes 0 for extended periods from January to April."
   ]
  },
  {
   "cell_type": "code",
   "execution_count": 2,
   "metadata": {},
   "outputs": [
    {
     "data": {
      "image/png": "[encoded data removed]",
      "text/plain": [
       "<Figure size 432x288 with 3 Axes>"
      ]
     },
     "metadata": {
      "needs_background": "light"
     },
     "output_type": "display_data"
    }
   ],
   "source": [
    "# Create a WeatherStation object for the Resolute data\n",
    "resolute = WeatherStation('resolutedata.mat')  # Make sure that resolutedata.mat is in your project folder\n",
    "resolute.simulate(0)  # Simulate using the simple algorithm"
   ]
  },
  {
   "cell_type": "markdown",
   "metadata": {},
   "source": [
    "<h4>Exercise 1:&nbsp;&nbsp; Membership functions</h4>\n",
    "The membership functions for state of charge and future average power are the same as last lab, and have been provided for you in the following cell.  However, the duty cycle membership functions must be defined.  This value can range from 25% to 100%.\n",
    "<br>\n",
    "<ol>\n",
    "    <li>Define the universe set for duty cycle, using 101 elements.</li>\n",
    "</ol>"
   ]
  },
  {
   "cell_type": "code",
   "execution_count": 3,
   "metadata": {},
   "outputs": [],
   "source": [
    "# Define membership functions for state of charge\n",
    "uniSOC = np.linspace(20, 100, num = 81)\n",
    "lowSOC = fuzz.trapmf(uniSOC, [20, 20, 22, 38])\n",
    "mediumSOC = fuzz.trapmf(uniSOC, [22, 38, 42, 58])\n",
    "highSOC = fuzz.trapmf(uniSOC, [42, 58, 100, 100])\n",
    "\n",
    "# Define membership functions for future average power\n",
    "uniP = np.linspace(0, 100, num = 101)\n",
    "scarceP = fuzz.trapmf(uniP, [0, 0, 30, 35])\n",
    "averageP = fuzz.trapmf(uniP, [30, 35, 40 ,45])\n",
    "abundantP = fuzz.trapmf(uniP, [40, 45, 100, 100])\n",
    "\n",
    "### WRITE CODE BELOW THIS LINE ###\n",
    "uniDuty = np.linspace(25, 100, num = 101)"
   ]
  },
  {
   "cell_type": "markdown",
   "metadata": {},
   "source": [
    "<ol start=2>\n",
    "    <li>Plot the trapezoidal membership functions, LOW, MEDIUM, and HIGH, on one figure according to the parameters given below.</li>\n",
    "</ol>\n",
    "\n",
    "\\begin{array}{l c c c c}\n",
    "\\hline\n",
    "Fuzzy\\ set & a & b & c & d \\\\\n",
    "\\hline\n",
    "LOW & 25 & 25 & 28.75 & 50.50 \\\\\n",
    "MEDIUM & 28.75 & 50.50 & 52 & 74.50 \\\\\n",
    "HIGH & 52 & 74.50 & 100 & 100\\\\\n",
    "\\hline\n",
    "\\end{array}"
   ]
  },
  {
   "cell_type": "code",
   "execution_count": 4,
   "metadata": {},
   "outputs": [],
   "source": [
    "lowDuty = fuzz.trapmf(uniDuty,[25,25,28.75,50.5])\n",
    "mediumDuty = fuzz.trapmf(uniDuty,[28.75,50.50,52,74.5])\n",
    "highDuty = fuzz.trapmf(uniDuty,[52,74.5,100,100])"
   ]
  },
  {
   "cell_type": "markdown",
   "metadata": {},
   "source": [
    "<h4>Exercise 2:&nbsp;&nbsp; Fuzzy lookup table</h4>\n",
    "Determine the fuzzy lookup table, <i>fuzzyLookupTable</i>, that provides the values of duty cycle for each combination of state of charge and future average power.  The matrix should be of dimension $M \\times N$, where $M$ is the number of elements in the state of charge universe set and $N$ is the number of elements in the future average power universe set.  This means that the element at $(0, 0)$ should yield the duty cycle if the state of charge were at 20% and the future average power were 0W.\n",
    "<br>\n",
    "The operations that are used to realize the operators in the fuzzy ruleset can be found below.  They are arranged in the order that they should be performed.\n",
    "\n",
    "&emsp;i. <b>AND</b> - <i>Larsen</i> <br>\n",
    "&emsp;ii. <b>IF/THEN</b> - <i>Larsen</i> <br>\n",
    "&emsp;iii. <b>ELSE</b> - <i>maximum</i> <br>\n",
    "&emsp;iv. Defuzzification - <i>bisector</i> <br>\n",
    "\n",
    "<ol>\n",
    "    <li>Once all of the elements are calculated, plot the fuzzy lookup table.</li>\n",
    "</ol>"
   ]
  },
  {
   "cell_type": "code",
   "execution_count": 5,
   "metadata": {},
   "outputs": [
    {
     "name": "stderr",
     "output_type": "stream",
     "text": [
      "C:\\Users\\Dariu\\anaconda3\\envs\\tf\\lib\\site-packages\\ipykernel_launcher.py:35: MatplotlibDeprecationWarning: Calling gca() with keyword arguments was deprecated in Matplotlib 3.4. Starting two minor releases later, gca() will take no keyword arguments. The gca() function should only be used to get the current axes, or if no axes exist, create new axes with default keyword arguments. To create a new axes with non-default arguments, use plt.axes() or plt.subplot().\n"
     ]
    },
    {
     "data": {
      "text/plain": [
       "<mpl_toolkits.mplot3d.art3d.Poly3DCollection at 0x1cfcb90fec8>"
      ]
     },
     "execution_count": 5,
     "metadata": {},
     "output_type": "execute_result"
    },
    {
     "data": {
      "image/png": "[encoded data removed]",
      "text/plain": [
       "<Figure size 432x288 with 1 Axes>"
      ]
     },
     "metadata": {
      "needs_background": "light"
     },
     "output_type": "display_data"
    }
   ],
   "source": [
    "# Initialize variables to store values necessary for the fuzzy controller\n",
    "# define an array of zeros, what should be the size of the array?\n",
    "fuzzyLookupTable = np.array([[0 for j in range(len(uniP))] for i in range(len(uniSOC))])\n",
    "# define the rule set as an array\n",
    "low, med, high = 0,1,2\n",
    "sca, avg, abu = 0,1,2\n",
    "rules = np.array([[low,sca,low],\n",
    "                   [low,avg,med],\n",
    "                   [low,abu,med],\n",
    "                   [med,sca,med],\n",
    "                   [med,avg,med],\n",
    "                   [med,abu,high],\n",
    "                   [high,sca,high],\n",
    "                   [high,avg,high],\n",
    "                   [high,abu,high]])\n",
    "# create arrays for SOC, future average power and duty cycle\n",
    "SOC = np.array([lowSOC, mediumSOC, highSOC])\n",
    "FuturePower = np.array([scarceP, averageP, abundantP])\n",
    "Duty = np.array([lowDuty, mediumDuty, highDuty])\n",
    "# create the structure where you are going to store the duty cycle results\n",
    "dutyCycle = [[0 for i in range(len(uniDuty))] for j in range(len(rules))]\n",
    "maxoutput = [0 for i in range(len(uniDuty))]\n",
    "# Determine fuzzy lookup table using product operation for AND/THEN and maximum operation for OR\n",
    "for s in range(len(uniSOC)):\n",
    "    for p in range(len(uniP)):\n",
    "        for r in range(len(rules)):\n",
    "            lam = SOC[rules[r,0],s]*FuturePower[rules[r,1],p] \n",
    "            dutyCycle[r] = lam* Duty[rules[r,2]]\n",
    "        dcMax = np.amax(dutyCycle, axis = 0) \n",
    "        fuzzyLookupTable[s,p] = fuzz.defuzz(uniDuty, dcMax, 'bisector')\n",
    "\n",
    "# Plot the fuzzy lookup table surface in 3D\n",
    "fig = plt.figure()\n",
    "[gx,gy] = np.meshgrid(uniSOC,uniP, indexing = 'ij')\n",
    "ax = fig.gca(projection = '3d')\n",
    "ax.plot_surface(gx, gy, fuzzyLookupTable)"
   ]
  },
  {
   "cell_type": "markdown",
   "metadata": {},
   "source": [
    "<h4>Exercise 3:&nbsp;&nbsp; Making decisions</h4>\n",
    "Four monitoring stations are checked at their current states and found to have the parameters listed in the table below.\n",
    "\n",
    "\\begin{array}{c c c}\n",
    "\\hline\n",
    "Station\\ \\# & State\\ of\\ charge\\ [\\%] & Future\\ average\\ power\\ [W] \\\\\n",
    "\\hline\n",
    "1       & 20\\           & 100  \\\\\n",
    "2       & 28\\           & 23   \\\\\n",
    "3       & 50\\           & 21   \\\\\n",
    "4       & 88\\           & 91   \\\\\n",
    "\\hline\n",
    "\\end{array}\n",
    "\n",
    "The initial code provided in the cell below rounds all duty cycle values to 25%, 50%, 75%, or 100% to make the simulation results more intuitive and easier to read.\n",
    "<br>\n",
    "<ol>\n",
    "    <li>Determine what duty cycle each station should adopt, based on the new fuzzy lookup table, and print each result.</li>\n",
    "</ol>"
   ]
  },
  {
   "cell_type": "code",
   "execution_count": 6,
   "metadata": {},
   "outputs": [
    {
     "name": "stdout",
     "output_type": "stream",
     "text": [
      "[50.0, 25.0, 75.0, 100.0]\n"
     ]
    }
   ],
   "source": [
    "# Normalize the table, and set the duty cycle to take values of 25, 50, 75, or 100\n",
    "fuzzyLookupTable -= np.amin(np.amin(fuzzyLookupTable))\n",
    "fuzzyLookupTable = fuzzyLookupTable/np.amax(np.amax(fuzzyLookupTable))\n",
    "fuzzyLookupTable = 75 * np.round(fuzzyLookupTable * 3) / 3 + 25\n",
    "\n",
    "### WRITE CODE BELOW THIS LINE ###\n",
    "station = [0 for i in range(4)]\n",
    "station[0] = fuzzyLookupTable[np.where(uniSOC == 20),np.where(uniP == 100)][0][0]\n",
    "station[1] = fuzzyLookupTable[np.where(uniSOC == 28),np.where(uniP == 23)][0][0]\n",
    "station[2] = fuzzyLookupTable[np.where(uniSOC == 50),np.where(uniP == 21)][0][0]\n",
    "station[3] = fuzzyLookupTable[np.where(uniSOC == 88),np.where(uniP == 91)][0][0]\n",
    "print(station)"
   ]
  },
  {
   "cell_type": "markdown",
   "metadata": {},
   "source": [
    "<h4>Exercise 4:&nbsp;&nbsp; Fuzzy simulation</h4>\n",
    "Finally, run the cell below to simulate the monitoring station using the new fuzzy controller.\n",
    "<br>\n",
    "<ol>\n",
    "    <li>Discuss any changes that were noted and how the fuzzy controller managed the station's power consumption relative to the incoming current, generated from the renewable resources.  Include the plot of your final results in the report.</li>\n",
    "</ol>"
   ]
  },
  {
   "cell_type": "code",
   "execution_count": 7,
   "metadata": {},
   "outputs": [
    {
     "data": {
      "image/png": "[encoded data removed]",
      "text/plain": [
       "<Figure size 432x288 with 3 Axes>"
      ]
     },
     "metadata": {
      "needs_background": "light"
     },
     "output_type": "display_data"
    }
   ],
   "source": [
    "resolute.setFuzzyLookupTable(fuzzyLookupTable)\n",
    "resolute.simulate(1)  # Simulate using the fuzzy algorithm"
   ]
  },
  {
   "cell_type": "raw",
   "metadata": {},
   "source": [
    "the original has power outages from january to april while the new one has verying power cycles but never at 0."
   ]
  },
  {
   "cell_type": "markdown",
   "metadata": {},
   "source": [
    "<hr>\n",
    "<hr>"
   ]
  },
  {
   "cell_type": "markdown",
   "metadata": {},
   "source": [
    "<h2>Abstract</h2>"
   ]
  },
  {
   "cell_type": "raw",
   "metadata": {},
   "source": [
    "Fuzzy logic is used to determine a range of inputs to get a single output with a few decisions. Each fuzzy value is corresponded to a range where it accepts the value. A lookuptable helps with making operations where 2 fuzzy sets cross. helping it decide the outcome with the given inputs. Fuzzy lookuptable is very useful in generalizing many ranges to being just 2 inputs and giving a simple output. "
   ]
  },
  {
   "cell_type": "markdown",
   "metadata": {},
   "source": [
    "<h2>Introduction</h2>"
   ]
  },
  {
   "cell_type": "raw",
   "metadata": {},
   "source": [
    "This lab consists of having fuzzy inputs and putting them into a lookuptable using larsen's method. The lookuptable will be divided into 9 different sections respectively since each fuzzy set has 3 different subsets ( 3* 3) Rules are setup based on the sections. Larson's method is to multiple 2 values and create a new value placed onto the table, and then finds the max for that line. multiplying the values will give use an and operation (min operation). With the lookuptable being finished, we were to simplify it down to 4 controls, being 25%, 50%, ,75%, 100% respectively. Lastly we gave a few inputs and the algorithm gave us a single output for each as the result."
   ]
  },
  {
   "cell_type": "markdown",
   "metadata": {},
   "source": [
    "<h2>Conclusion</h2>"
   ]
  },
  {
   "cell_type": "raw",
   "metadata": {},
   "source": [
    "Fuzzy sets can be very useful tool when collecting values from sensor as inputs, and using a simple algorithm containing data points, it can determine the output in action. Fuzzy set's are one way of making decisions that is closest to the brain, compared to the traditional way where computers just use math to compute. "
   ]
  },
  {
   "cell_type": "markdown",
   "metadata": {},
   "source": [
    "<center>\n",
    "<h3>Lab 2 Marking Guide</h3>\n",
    "<hr>\n",
    "</center>\n",
    "\n",
    "\\begin{array}{@{}clcc@{}}\n",
    "\\textbf{Exercise} & \\textbf{Item}           & \\textbf{Total Marks} & \\textbf{Earned Marks} \\\\ \n",
    "\\hline\n",
    "                  & Pre-lab                 & 10                    &               \\\\ \n",
    "                  & Abstract                & 3                     &               \\\\ \n",
    "                  & Introduction            & 3                     &               \\\\\n",
    "                  & Conclusion              & 4                     &               \\\\\n",
    "1                 & Membership\\ functions\t& 10                    &               \\\\\n",
    "2                 & Algorithm \t            & 30                    &               \\\\\n",
    "3                 & Fuzzy\\ lookup\\ table    & 10                 \t&               \\\\\n",
    "4                 & Making\\ decisions       & 20                 \t&               \\\\\n",
    "5                 & Fuzzy\\ simulation       & 10                 \t&               \\\\\n",
    "\\hline\n",
    "                  & \\textbf{TOTAL}          & 100                   &\n",
    "\\end{array}"
   ]
  }
 ],
 "metadata": {
  "kernelspec": {
   "display_name": "Python 3",
   "language": "python",
   "name": "python3"
  },
  "language_info": {
   "codemirror_mode": {
    "name": "ipython",
    "version": 3
   },
   "file_extension": ".py",
   "mimetype": "text/x-python",
   "name": "python",
   "nbconvert_exporter": "python",
   "pygments_lexer": "ipython3",
   "version": "3.7.9"
  }
 },
 "nbformat": 4,
 "nbformat_minor": 2
}
